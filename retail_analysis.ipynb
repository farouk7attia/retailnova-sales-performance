{
 "cells": [
  {
   "cell_type": "markdown",
   "id": "01c2fe7b",
   "metadata": {},
   "source": [
    "# RetailNova Sales Analysis\n",
    "\n",
    "This notebook performs business data analysis for the fictional company RetailNova, focusing on sales performance across three cities: Salzburg, Wien, and München."
   ]
  },
  {
   "cell_type": "code",
   "execution_count": null,
   "id": "9e984ffa",
   "metadata": {},
   "outputs": [],
   "source": [
    "import pandas as pd\n",
    "import matplotlib.pyplot as plt\n",
    "import seaborn as sns\n",
    "\n",
    "# Load dataset\n",
    "df = pd.read_csv('retail_sales.csv')\n",
    "df['Date'] = pd.to_datetime(df['Date'])\n",
    "\n",
    "df.head()"
   ]
  },
  {
   "cell_type": "markdown",
   "id": "374b3174",
   "metadata": {},
   "source": [
    "## Data Cleaning & Basic Stats"
   ]
  },
  {
   "cell_type": "code",
   "execution_count": null,
   "id": "13f2cf5b",
   "metadata": {},
   "outputs": [],
   "source": [
    "# Check for nulls\n",
    "print(df.isnull().sum())\n",
    "\n",
    "# Basic info\n",
    "print(df.describe())"
   ]
  },
  {
   "cell_type": "markdown",
   "id": "8ef9e5aa",
   "metadata": {},
   "source": [
    "## Revenue by City"
   ]
  },
  {
   "cell_type": "code",
   "execution_count": null,
   "id": "6d5b6ea9",
   "metadata": {},
   "outputs": [],
   "source": [
    "city_revenue = df.groupby('City')['Revenue'].sum().sort_values(ascending=False)\n",
    "city_revenue.plot(kind='bar', title='Total Revenue by City', color='skyblue')\n",
    "plt.ylabel('Revenue (€)')\n",
    "plt.xticks(rotation=45)\n",
    "plt.tight_layout()\n",
    "plt.show()"
   ]
  },
  {
   "cell_type": "markdown",
   "id": "ad0c6acb",
   "metadata": {},
   "source": [
    "## Monthly Revenue Trend"
   ]
  },
  {
   "cell_type": "code",
   "execution_count": null,
   "id": "154a51b4",
   "metadata": {},
   "outputs": [],
   "source": [
    "df['Month'] = df['Date'].dt.to_period('M')\n",
    "monthly = df.groupby('Month')['Revenue'].sum()\n",
    "\n",
    "monthly.plot(kind='line', marker='o', title='Monthly Revenue Trend')\n",
    "plt.ylabel('Revenue (€)')\n",
    "plt.xticks(rotation=45)\n",
    "plt.tight_layout()\n",
    "plt.show()"
   ]
  },
  {
   "cell_type": "markdown",
   "id": "d327e909",
   "metadata": {},
   "source": [
    "## Revenue by Product Category"
   ]
  },
  {
   "cell_type": "code",
   "execution_count": null,
   "id": "a0733c12",
   "metadata": {},
   "outputs": [],
   "source": [
    "category_revenue = df.groupby('Category')['Revenue'].sum()\n",
    "category_revenue.plot(kind='pie', autopct='%1.1f%%', title='Revenue Share by Category')\n",
    "plt.ylabel('')\n",
    "plt.tight_layout()\n",
    "plt.show()"
   ]
  },
  {
   "cell_type": "markdown",
   "id": "f0eb8fb3",
   "metadata": {},
   "source": [
    "## Conclusion\n",
    "\n",
    "- München hat das höchste Umsatzvolumen.\n",
    "- Accessory-Produkte machen einen beträchtlichen Teil des Umsatzes aus.\n",
    "- Empfehlungen könnten die Erweiterung profitabler Kategorien und eine gezielte Werbung in Salzburg sein."
   ]
  }
 ],
 "metadata": {
  "kernelspec": {
   "display_name": "Python 3",
   "name": "python3"
  }
 },
 "nbformat": 4,
 "nbformat_minor": 5
}